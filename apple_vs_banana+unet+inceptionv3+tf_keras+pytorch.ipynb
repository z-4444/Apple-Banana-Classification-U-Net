{
  "nbformat": 4,
  "nbformat_minor": 0,
  "metadata": {
    "colab": {
      "provenance": []
    },
    "kernelspec": {
      "name": "python3",
      "display_name": "Python 3"
    },
    "language_info": {
      "name": "python"
    },
    "accelerator": "GPU",
    "gpuClass": "standard"
  },
  "cells": [
    {
      "cell_type": "markdown",
      "source": [
        "### **TensorFlow Keras Code**"
      ],
      "metadata": {
        "id": "D3XpEWQk7BJ0"
      }
    },
    {
      "cell_type": "code",
      "execution_count": null,
      "metadata": {
        "id": "0iUkAABIgS-V"
      },
      "outputs": [],
      "source": [
        "# !unzip /content/drive/MyDrive/apple_vs_banana/apples-bananas-oranges.zip -d /content"
      ]
    },
    {
      "cell_type": "code",
      "source": [
        "from tensorflow.keras.layers import *\n",
        "from tensorflow.keras.models import Model\n",
        "from tensorflow.keras.preprocessing.image import ImageDataGenerator"
      ],
      "metadata": {
        "id": "2IBWvjx0wyua"
      },
      "execution_count": null,
      "outputs": []
    },
    {
      "cell_type": "code",
      "source": [
        "# Define input shape and number of classes\n",
        "img_shape = (224, 224, 3)\n",
        "num_classes = 2"
      ],
      "metadata": {
        "id": "FjMY9cdf_OMR"
      },
      "execution_count": null,
      "outputs": []
    },
    {
      "cell_type": "code",
      "source": [
        "import os\n",
        "import numpy as np\n",
        "import tensorflow as tf\n",
        "from tensorflow.keras.preprocessing.image import ImageDataGenerator\n",
        "from tensorflow.keras.models import Model\n",
        "from tensorflow.keras.layers import Input, Conv2D, MaxPooling2D, Flatten, Dense\n",
        "\n",
        "# Set up data directories\n",
        "train_dir = '/content/drive/MyDrive/apple_banana/data/train'\n",
        "test_dir = '/content/drive/MyDrive/apple_banana/data/test'\n",
        "\n",
        "# Set up data generators\n",
        "train_datagen = ImageDataGenerator(rescale=1./255, validation_split=0.2)\n",
        "test_datagen = ImageDataGenerator(rescale=1./255)\n",
        "\n",
        "train_generator = train_datagen.flow_from_directory(\n",
        "        train_dir,\n",
        "        target_size=(299, 299),\n",
        "        batch_size=32,\n",
        "        class_mode='binary',\n",
        "        subset='training')\n",
        "\n",
        "validation_generator = train_datagen.flow_from_directory(\n",
        "        train_dir,\n",
        "        target_size=(299, 299),\n",
        "        batch_size=32,\n",
        "        class_mode='binary',\n",
        "        subset='validation')\n",
        "\n",
        "test_generator = test_datagen.flow_from_directory(\n",
        "        test_dir,\n",
        "        target_size=(299, 299),\n",
        "        batch_size=32,\n",
        "        class_mode='binary',\n",
        "        shuffle=False)"
      ],
      "metadata": {
        "colab": {
          "base_uri": "https://localhost:8080/"
        },
        "id": "DSYWe13g_Vq9",
        "outputId": "146fd05a-9ee0-488d-b48f-480eecd37459"
      },
      "execution_count": null,
      "outputs": [
        {
          "output_type": "stream",
          "name": "stdout",
          "text": [
            "Found 289 images belonging to 2 classes.\n",
            "Found 71 images belonging to 2 classes.\n",
            "Found 91 images belonging to 2 classes.\n"
          ]
        }
      ]
    },
    {
      "cell_type": "code",
      "source": [
        "import tensorflow as tf\n",
        "from tensorflow.keras.layers import Input, Conv2D, MaxPooling2D, Dropout, concatenate, Conv2DTranspose, Flatten, Dense\n",
        "from tensorflow.keras.applications import InceptionV3\n",
        "\n",
        "# Define input shape and number of classes\n",
        "input_shape = (299, 299, 3)\n",
        "# Define InceptionV3 backbone\n",
        "backbone = InceptionV3(input_shape=input_shape, include_top=False, weights='imagenet')\n",
        "\n",
        "# Set the backbone layers to be non-trainable\n",
        "for layer in backbone.layers:\n",
        "    layer.trainable = False\n",
        "\n",
        "# Define U-Net architecture with InceptionV3 backbone\n",
        "inputs = Input(input_shape)\n",
        "x1 = backbone(inputs)\n",
        "\n",
        "# Downsampling\n",
        "conv1a = Conv2D(32, (3, 3), activation='relu', padding='same')(x1)\n",
        "conv1b = Conv2D(32, (3, 3), activation='relu', padding='same')(conv1a)\n",
        "pool1 = MaxPooling2D(pool_size=(2, 2))(conv1b)\n",
        "\n",
        "conv2a = Conv2D(64, (3, 3), activation='relu', padding='same')(pool1)\n",
        "conv2b = Conv2D(64, (3, 3), activation='relu', padding='same')(conv2a)\n",
        "pool2 = MaxPooling2D(pool_size=(2, 2))(conv2b)\n",
        "\n",
        "conv3a = Conv2D(128, (3, 3), activation='relu', padding='same')(conv2b)\n",
        "conv3b = Conv2D(128, (3, 3), activation='relu', padding='same')(conv3a)\n",
        "\n",
        "# Upsampling\n",
        "up4 = Conv2DTranspose(64, (2, 2), strides=(1, 1), padding='same')(conv3b)\n",
        "merge4 = concatenate([up4, conv2b], axis=3)\n",
        "conv4a = Conv2D(64, (3, 3), activation='relu', padding='same')(merge4)\n",
        "conv4b = Conv2D(64, (3, 3), activation='relu', padding='same')(conv4a)\n",
        "\n",
        "up5 = Conv2DTranspose(32, (2, 2), strides=(2, 2), padding='same')(conv4b)\n",
        "merge5 = concatenate([up5, conv1b], axis=3)\n",
        "conv5a = Conv2D(32, (3, 3), activation='relu', padding='same')(merge5)\n",
        "conv5b = Conv2D(32, (3, 3), activation='relu', padding='same')(conv5a)\n",
        "\n",
        "x2 = Flatten()(conv5b)\n",
        "x3 = Dense(512, activation='relu')(x2)\n",
        "x3 = Dropout(0.5)(x3)\n",
        "x4 = Dense(256, activation='relu')(x3)\n",
        "x4 = Dropout(0.2)(x4)\n",
        "x5 = Dense(64, activation='relu')(x4)\n",
        "x5 = Dropout(0.2)(x5)\n",
        "outputs = Dense(1, activation='sigmoid')(x5)\n",
        "\n",
        "# Define the model\n",
        "model = tf.keras.models.Model(inputs=inputs, outputs=outputs)\n",
        "\n",
        "\n",
        "# # Compile the model with categorical crossentropy loss and Adam optimizer\n",
        "# model.compile(loss='binary_crossentropy', optimizer='adam', metrics=['accuracy'])\n",
        "\n",
        "# # Print the model summary\n",
        "model.summary()\n"
      ],
      "metadata": {
        "id": "y4nkRCyO_OeK",
        "colab": {
          "base_uri": "https://localhost:8080/"
        },
        "outputId": "5a5d8738-1931-4548-90ef-ddd657b5e0b2"
      },
      "execution_count": null,
      "outputs": [
        {
          "output_type": "stream",
          "name": "stdout",
          "text": [
            "Downloading data from https://storage.googleapis.com/tensorflow/keras-applications/inception_v3/inception_v3_weights_tf_dim_ordering_tf_kernels_notop.h5\n",
            "87910968/87910968 [==============================] - 0s 0us/step\n",
            "Model: \"model\"\n",
            "__________________________________________________________________________________________________\n",
            " Layer (type)                   Output Shape         Param #     Connected to                     \n",
            "==================================================================================================\n",
            " input_2 (InputLayer)           [(None, 299, 299, 3  0           []                               \n",
            "                                )]                                                                \n",
            "                                                                                                  \n",
            " inception_v3 (Functional)      (None, 8, 8, 2048)   21802784    ['input_2[0][0]']                \n",
            "                                                                                                  \n",
            " conv2d_94 (Conv2D)             (None, 8, 8, 32)     589856      ['inception_v3[0][0]']           \n",
            "                                                                                                  \n",
            " conv2d_95 (Conv2D)             (None, 8, 8, 32)     9248        ['conv2d_94[0][0]']              \n",
            "                                                                                                  \n",
            " max_pooling2d_4 (MaxPooling2D)  (None, 4, 4, 32)    0           ['conv2d_95[0][0]']              \n",
            "                                                                                                  \n",
            " conv2d_96 (Conv2D)             (None, 4, 4, 64)     18496       ['max_pooling2d_4[0][0]']        \n",
            "                                                                                                  \n",
            " conv2d_97 (Conv2D)             (None, 4, 4, 64)     36928       ['conv2d_96[0][0]']              \n",
            "                                                                                                  \n",
            " conv2d_98 (Conv2D)             (None, 4, 4, 128)    73856       ['conv2d_97[0][0]']              \n",
            "                                                                                                  \n",
            " conv2d_99 (Conv2D)             (None, 4, 4, 128)    147584      ['conv2d_98[0][0]']              \n",
            "                                                                                                  \n",
            " conv2d_transpose (Conv2DTransp  (None, 4, 4, 64)    32832       ['conv2d_99[0][0]']              \n",
            " ose)                                                                                             \n",
            "                                                                                                  \n",
            " concatenate_2 (Concatenate)    (None, 4, 4, 128)    0           ['conv2d_transpose[0][0]',       \n",
            "                                                                  'conv2d_97[0][0]']              \n",
            "                                                                                                  \n",
            " conv2d_100 (Conv2D)            (None, 4, 4, 64)     73792       ['concatenate_2[0][0]']          \n",
            "                                                                                                  \n",
            " conv2d_101 (Conv2D)            (None, 4, 4, 64)     36928       ['conv2d_100[0][0]']             \n",
            "                                                                                                  \n",
            " conv2d_transpose_1 (Conv2DTran  (None, 8, 8, 32)    8224        ['conv2d_101[0][0]']             \n",
            " spose)                                                                                           \n",
            "                                                                                                  \n",
            " concatenate_3 (Concatenate)    (None, 8, 8, 64)     0           ['conv2d_transpose_1[0][0]',     \n",
            "                                                                  'conv2d_95[0][0]']              \n",
            "                                                                                                  \n",
            " conv2d_102 (Conv2D)            (None, 8, 8, 32)     18464       ['concatenate_3[0][0]']          \n",
            "                                                                                                  \n",
            " conv2d_103 (Conv2D)            (None, 8, 8, 32)     9248        ['conv2d_102[0][0]']             \n",
            "                                                                                                  \n",
            " flatten (Flatten)              (None, 2048)         0           ['conv2d_103[0][0]']             \n",
            "                                                                                                  \n",
            " dense (Dense)                  (None, 512)          1049088     ['flatten[0][0]']                \n",
            "                                                                                                  \n",
            " dropout (Dropout)              (None, 512)          0           ['dense[0][0]']                  \n",
            "                                                                                                  \n",
            " dense_1 (Dense)                (None, 256)          131328      ['dropout[0][0]']                \n",
            "                                                                                                  \n",
            " dropout_1 (Dropout)            (None, 256)          0           ['dense_1[0][0]']                \n",
            "                                                                                                  \n",
            " dense_2 (Dense)                (None, 64)           16448       ['dropout_1[0][0]']              \n",
            "                                                                                                  \n",
            " dropout_2 (Dropout)            (None, 64)           0           ['dense_2[0][0]']                \n",
            "                                                                                                  \n",
            " dense_3 (Dense)                (None, 1)            65          ['dropout_2[0][0]']              \n",
            "                                                                                                  \n",
            "==================================================================================================\n",
            "Total params: 24,055,169\n",
            "Trainable params: 2,252,385\n",
            "Non-trainable params: 21,802,784\n",
            "__________________________________________________________________________________________________\n"
          ]
        }
      ]
    },
    {
      "cell_type": "code",
      "source": [
        "\n",
        "model.compile(optimizer='adam', loss='binary_crossentropy', metrics=['accuracy'])\n",
        "\n",
        "history = model.fit(\n",
        "      train_generator,\n",
        "      steps_per_epoch=train_generator.samples//train_generator.batch_size,\n",
        "      epochs=10,\n",
        "      validation_data=validation_generator,\n",
        "      validation_steps=validation_generator.samples/validation_generator.batch_size)\n",
        "\n",
        "# Evaluate model\n",
        "\n",
        "test_loss, test_acc = model.evaluate(test_generator, steps=test_generator.samples/test_generator.batch_size)\n",
        "print('Test loss:', test_loss)\n",
        "print('Test accuracy:', test_acc)\n"
      ],
      "metadata": {
        "colab": {
          "base_uri": "https://localhost:8080/"
        },
        "id": "YeMaaXl68BIl",
        "outputId": "f56e95f4-3b90-4dab-973c-e9ecad6042f2"
      },
      "execution_count": null,
      "outputs": [
        {
          "output_type": "stream",
          "name": "stdout",
          "text": [
            "Epoch 1/10\n",
            "9/9 [==============================] - 137s 14s/step - loss: 0.3479 - accuracy: 0.7860 - val_loss: 9.4924e-04 - val_accuracy: 1.0000\n",
            "Epoch 2/10\n",
            "9/9 [==============================] - 95s 11s/step - loss: 8.3559e-04 - accuracy: 1.0000 - val_loss: 0.0355 - val_accuracy: 0.9859\n",
            "Epoch 3/10\n",
            "9/9 [==============================] - 91s 10s/step - loss: 1.5190e-04 - accuracy: 1.0000 - val_loss: 1.7884e-07 - val_accuracy: 1.0000\n",
            "Epoch 4/10\n",
            "9/9 [==============================] - 92s 10s/step - loss: 5.6210e-09 - accuracy: 1.0000 - val_loss: 6.3188e-12 - val_accuracy: 1.0000\n",
            "Epoch 5/10\n",
            "9/9 [==============================] - 92s 11s/step - loss: 1.0304e-11 - accuracy: 1.0000 - val_loss: 5.6402e-14 - val_accuracy: 1.0000\n",
            "Epoch 6/10\n",
            "9/9 [==============================] - 101s 12s/step - loss: 1.8457e-13 - accuracy: 1.0000 - val_loss: 6.4208e-15 - val_accuracy: 1.0000\n",
            "Epoch 7/10\n",
            "9/9 [==============================] - 109s 13s/step - loss: 1.6453e-12 - accuracy: 1.0000 - val_loss: 2.5278e-15 - val_accuracy: 1.0000\n",
            "Epoch 8/10\n",
            "9/9 [==============================] - 94s 10s/step - loss: 4.1284e-10 - accuracy: 1.0000 - val_loss: 1.7071e-15 - val_accuracy: 1.0000\n",
            "Epoch 9/10\n",
            "9/9 [==============================] - 92s 11s/step - loss: 1.4609e-15 - accuracy: 1.0000 - val_loss: 1.4510e-15 - val_accuracy: 1.0000\n",
            "Epoch 10/10\n",
            "9/9 [==============================] - 90s 10s/step - loss: 3.8150e-11 - accuracy: 1.0000 - val_loss: 1.3574e-15 - val_accuracy: 1.0000\n",
            "2/2 [==============================] - 30s 11s/step - loss: 1.0923e-16 - accuracy: 1.0000\n",
            "Test loss: 1.0923489750768657e-16\n",
            "Test accuracy: 1.0\n"
          ]
        }
      ]
    },
    {
      "cell_type": "code",
      "source": [
        "model.save('content/apple_vs_banana_unet_keras(v.1).h5')"
      ],
      "metadata": {
        "id": "gNSb1u9c8BOk"
      },
      "execution_count": null,
      "outputs": []
    },
    {
      "cell_type": "code",
      "source": [
        "# Evaluate model on test set\n",
        "loss, accuracy = model.evaluate(test_generator)\n",
        "\n",
        "# Print test set accuracy\n",
        "print(\"Test set accuracy: {:.2f}%\".format(accuracy * 100))"
      ],
      "metadata": {
        "id": "EGImn3Tf8BVV",
        "colab": {
          "base_uri": "https://localhost:8080/"
        },
        "outputId": "0b20232b-05d7-4651-aba8-4f8b55616a0a"
      },
      "execution_count": null,
      "outputs": [
        {
          "output_type": "stream",
          "name": "stdout",
          "text": [
            "3/3 [==============================] - 28s 9s/step - loss: 1.0923e-16 - accuracy: 1.0000\n",
            "Test set accuracy: 100.00%\n"
          ]
        }
      ]
    },
    {
      "cell_type": "code",
      "source": [
        "# Generate predictions for test set\n",
        "predictions = model.predict(test_generator)\n",
        "\n",
        "# Print predicted class probabilities for the first image in the test set\n",
        "print(\"Predicted class probabilities:\", predictions[0])\n"
      ],
      "metadata": {
        "id": "D3vaqEwK8BZ3",
        "colab": {
          "base_uri": "https://localhost:8080/"
        },
        "outputId": "9c9607d0-b4ac-4aea-8c36-6f0c9ffc08cb"
      },
      "execution_count": null,
      "outputs": [
        {
          "output_type": "stream",
          "name": "stdout",
          "text": [
            "3/3 [==============================] - 33s 10s/step\n",
            "Predicted class probabilities: [0.]\n"
          ]
        }
      ]
    },
    {
      "cell_type": "code",
      "source": [
        "# Load the model from the file\n",
        "from tensorflow.keras.models import load_model\n",
        "\n",
        "loaded_model = load_model('/content/drive/MyDrive/apple_vs_banana_unet_keras(v.1).h5')\n"
      ],
      "metadata": {
        "id": "G3dxwpebAisH"
      },
      "execution_count": null,
      "outputs": []
    },
    {
      "cell_type": "code",
      "source": [
        "from tensorflow.keras.preprocessing.image import load_img, img_to_array\n",
        "# Load the new image\n",
        "img = load_img('/content/Untitled.png', target_size=(299,299,3))\n",
        "\n",
        "# Preprocess the image\n",
        "img_array = img_to_array(img)\n",
        "img_array = img_array[np.newaxis, ...] / 255.\n",
        "\n",
        "# Make predictions\n",
        "predictions = loaded_model.predict(img_array)\n",
        "\n",
        "# Get the predicted class label\n",
        "class_labels = train_generator.class_indices\n",
        "predicted_label = int(np.round(predictions))\n",
        "predicted_class = list(class_labels.keys())[list(class_labels.values()).index(predicted_label)]\n",
        "\n",
        "# Print the predicted class\n",
        "print(\"Predicted class:\", predicted_class)"
      ],
      "metadata": {
        "id": "PWFrZLQcXN_Q",
        "colab": {
          "base_uri": "https://localhost:8080/"
        },
        "outputId": "11e9d521-1832-444f-e70a-d082bc38e5a6"
      },
      "execution_count": null,
      "outputs": [
        {
          "output_type": "stream",
          "name": "stdout",
          "text": [
            "1/1 [==============================] - 2s 2s/step\n",
            "Predicted class: apple\n"
          ]
        }
      ]
    },
    {
      "cell_type": "code",
      "source": [
        "import numpy as np\n",
        "from sklearn.metrics import confusion_matrix, classification_report\n",
        "\n",
        "# Generate predictions for test set\n",
        "predictions = loaded_model.predict(test_generator)\n",
        "\n",
        "# Get true labels for test set\n",
        "true_labels = test_generator.classes\n",
        "\n",
        "# Convert predicted labels to class indices\n",
        "predicted_labels = np.round(predictions)\n",
        "\n",
        "# Generate confusion matrix and classification report\n",
        "confusion = confusion_matrix(true_labels, predicted_labels)\n",
        "report = classification_report(true_labels, predicted_labels, target_names=list(test_generator.class_indices.keys()))\n",
        "\n",
        "# Print confusion matrix and classification report\n",
        "print(\"Confusion Matrix:\\n\", confusion)\n",
        "print(\"\\nClassification Report:\\n\", report)"
      ],
      "metadata": {
        "id": "2cKQp9LeXOEZ",
        "colab": {
          "base_uri": "https://localhost:8080/"
        },
        "outputId": "7f1838e5-5b91-497c-8daa-ceeedd55a155"
      },
      "execution_count": null,
      "outputs": [
        {
          "output_type": "stream",
          "name": "stdout",
          "text": [
            "3/3 [==============================] - 1s 231ms/step\n",
            "Confusion Matrix:\n",
            " [[47  0]\n",
            " [ 0 44]]\n",
            "\n",
            "Classification Report:\n",
            "               precision    recall  f1-score   support\n",
            "\n",
            "       apple       1.00      1.00      1.00        47\n",
            "      banana       1.00      1.00      1.00        44\n",
            "\n",
            "    accuracy                           1.00        91\n",
            "   macro avg       1.00      1.00      1.00        91\n",
            "weighted avg       1.00      1.00      1.00        91\n",
            "\n"
          ]
        }
      ]
    },
    {
      "cell_type": "code",
      "source": [],
      "metadata": {
        "id": "XjOHN306XON5"
      },
      "execution_count": null,
      "outputs": []
    },
    {
      "cell_type": "code",
      "source": [],
      "metadata": {
        "id": "4By12GMzAiwv"
      },
      "execution_count": null,
      "outputs": []
    },
    {
      "cell_type": "code",
      "source": [],
      "metadata": {
        "id": "A_edCoJOAi1P"
      },
      "execution_count": null,
      "outputs": []
    }
  ]
}